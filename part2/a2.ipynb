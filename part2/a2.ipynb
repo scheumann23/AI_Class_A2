{
 "metadata": {
  "language_info": {
   "codemirror_mode": {
    "name": "ipython",
    "version": 3
   },
   "file_extension": ".py",
   "mimetype": "text/x-python",
   "name": "python",
   "nbconvert_exporter": "python",
   "pygments_lexer": "ipython3",
   "version": "3.8.5-final"
  },
  "orig_nbformat": 2,
  "kernelspec": {
   "name": "Python 3.8.5 64-bit ('NLP': conda)",
   "display_name": "Python 3.8.5 64-bit ('NLP': conda)",
   "metadata": {
    "interpreter": {
     "hash": "3fcc8762d32b6e9fca2af7a200d6a904ed918ac25cace5a24ad2010b6c5f5099"
    }
   }
  }
 },
 "nbformat": 4,
 "nbformat_minor": 2,
 "cells": [
  {
   "cell_type": "code",
   "execution_count": 14,
   "metadata": {},
   "outputs": [],
   "source": [
    "import numpy as np\n",
    "from moveBetsy import moveBird\n",
    "import random"
   ]
  },
  {
   "cell_type": "code",
   "execution_count": 10,
   "metadata": {},
   "outputs": [],
   "source": [
    "def play(color,board,timeout):\n",
    "    nextMoves = []\n",
    "    if color == 'w':\n",
    "        maxPlayer = True\n",
    "        friend = 'PNBRQK'        \n",
    "    else:\n",
    "        maxPlayer = False\n",
    "        friend = 'pnbrqk'\n",
    "        board = \"\".join(reversed(board))      \n",
    "    brd = arrangeBoard(list(board))\n",
    "    nextMoves += [moveBird(color,friend,j,i//8,i%8,brd) for i,j in enumerate(list(board)) if j in friend and j not in ('P', 'p')]\n",
    "    return [move for move in nextMoves if len(move) > 0]"
   ]
  },
  {
   "cell_type": "code",
   "execution_count": 11,
   "metadata": {},
   "outputs": [
    {
     "output_type": "execute_result",
     "data": {
      "text/plain": [
       "[[array([['r', '.', 'b', 'k', 'q', 'b', 'n', 'r'],\n",
       "         ['p', 'p', 'p', 'p', 'p', 'p', 'p', 'p'],\n",
       "         ['n', '.', '.', '.', '.', '.', '.', '.'],\n",
       "         ['.', '.', '.', '.', '.', '.', '.', '.'],\n",
       "         ['.', '.', '.', '.', '.', '.', '.', '.'],\n",
       "         ['.', '.', '.', '.', '.', '.', '.', '.'],\n",
       "         ['P', 'P', 'P', 'P', 'P', 'P', 'P', 'P'],\n",
       "         ['R', 'N', 'B', 'K', 'Q', 'B', 'N', 'R']], dtype='<U1'),\n",
       "  array([['r', '.', 'b', 'k', 'q', 'b', 'n', 'r'],\n",
       "         ['p', 'p', 'p', 'p', 'p', 'p', 'p', 'p'],\n",
       "         ['.', '.', 'n', '.', '.', '.', '.', '.'],\n",
       "         ['.', '.', '.', '.', '.', '.', '.', '.'],\n",
       "         ['.', '.', '.', '.', '.', '.', '.', '.'],\n",
       "         ['.', '.', '.', '.', '.', '.', '.', '.'],\n",
       "         ['P', 'P', 'P', 'P', 'P', 'P', 'P', 'P'],\n",
       "         ['R', 'N', 'B', 'K', 'Q', 'B', 'N', 'R']], dtype='<U1')],\n",
       " [array([['r', 'n', 'b', 'k', 'q', 'b', '.', 'r'],\n",
       "         ['p', 'p', 'p', 'p', 'p', 'p', 'p', 'p'],\n",
       "         ['.', '.', '.', '.', '.', 'n', '.', '.'],\n",
       "         ['.', '.', '.', '.', '.', '.', '.', '.'],\n",
       "         ['.', '.', '.', '.', '.', '.', '.', '.'],\n",
       "         ['.', '.', '.', '.', '.', '.', '.', '.'],\n",
       "         ['P', 'P', 'P', 'P', 'P', 'P', 'P', 'P'],\n",
       "         ['R', 'N', 'B', 'K', 'Q', 'B', 'N', 'R']], dtype='<U1'),\n",
       "  array([['r', 'n', 'b', 'k', 'q', 'b', '.', 'r'],\n",
       "         ['p', 'p', 'p', 'p', 'p', 'p', 'p', 'p'],\n",
       "         ['.', '.', '.', '.', '.', '.', '.', 'n'],\n",
       "         ['.', '.', '.', '.', '.', '.', '.', '.'],\n",
       "         ['.', '.', '.', '.', '.', '.', '.', '.'],\n",
       "         ['.', '.', '.', '.', '.', '.', '.', '.'],\n",
       "         ['P', 'P', 'P', 'P', 'P', 'P', 'P', 'P'],\n",
       "         ['R', 'N', 'B', 'K', 'Q', 'B', 'N', 'R']], dtype='<U1')]]"
      ]
     },
     "metadata": {},
     "execution_count": 11
    }
   ],
   "source": [
    "play('b', board, 10)"
   ]
  },
  {
   "cell_type": "code",
   "execution_count": 3,
   "metadata": {},
   "outputs": [],
   "source": [
    "board = 'RNBQKBNRPPPPPPPP................................pppppppprnbqkbnr'"
   ]
  },
  {
   "cell_type": "code",
   "execution_count": 4,
   "metadata": {},
   "outputs": [],
   "source": [
    "friend = 'PNBRQK'"
   ]
  },
  {
   "cell_type": "code",
   "execution_count": 5,
   "metadata": {},
   "outputs": [],
   "source": [
    "def arrangeBoard(board):\n",
    "    brd = np.reshape(board,(8,8))\n",
    "    return brd"
   ]
  },
  {
   "cell_type": "code",
   "execution_count": 6,
   "metadata": {},
   "outputs": [],
   "source": [
    "brd = arrangeBoard(list(board))"
   ]
  },
  {
   "cell_type": "code",
   "execution_count": 7,
   "metadata": {},
   "outputs": [],
   "source": [
    "moveBird('w',friend, 'R', 0, 0, brd)"
   ]
  },
  {
   "cell_type": "code",
   "execution_count": 16,
   "metadata": {},
   "outputs": [
    {
     "output_type": "execute_result",
     "data": {
      "text/plain": [
       "2"
      ]
     },
     "metadata": {},
     "execution_count": 16
    }
   ],
   "source": [
    "random.randint(1,5)"
   ]
  },
  {
   "cell_type": "code",
   "execution_count": 20,
   "metadata": {},
   "outputs": [],
   "source": [
    "max_depth = 3"
   ]
  },
  {
   "cell_type": "code",
   "execution_count": 26,
   "metadata": {},
   "outputs": [],
   "source": [
    "def maximize(depth, board, color):\n",
    "    max_value = -1000000\n",
    "    best_move = board\n",
    "    print(board)\n",
    "    op_color = 'w' if color is 'b' else 'b'\n",
    "    if depth == max_depth:\n",
    "        return evaluation_function(board)\n",
    "    for move in successor(color, board):\n",
    "        score = minimize(depth+1, move, op_color)\n",
    "        if score > max_value:\n",
    "            max_value = score\n",
    "            best_move = move\n",
    "    return (max_value, best_move)"
   ]
  },
  {
   "cell_type": "code",
   "execution_count": 27,
   "metadata": {},
   "outputs": [],
   "source": [
    "def minimize(depth, board, color):\n",
    "    min_value = 1000000\n",
    "    best_move = board\n",
    "    print(board)\n",
    "    op_color = 'w' if color is 'b' else 'b'\n",
    "    if depth == max_depth:\n",
    "        return evaluation_function(board)\n",
    "    for move in successor(color, board):\n",
    "        score = maximize(depth+1, move, op_color)\n",
    "        if score < min_value:\n",
    "            max_value = score\n",
    "            best_move = move\n",
    "    return (max_value, best_move)"
   ]
  },
  {
   "cell_type": "code",
   "execution_count": 32,
   "metadata": {},
   "outputs": [],
   "source": [
    "##need to either store board as a list or as an array, pick one...\n",
    "\n",
    "def successor(color, board):\n",
    "    nextMoves = []\n",
    "    friend = 'PNBRQK' if color == 'w' else 'pnbrqk'\n",
    "    brd = arrangeBoard(list(board)) if color == 'w' else arrangeBoard(list(\"\".join(reversed(board))))\n",
    "    nextMoves += [moveBird(color,friend,j,i//8,i%8,brd) for i,j in enumerate(list(board)) if j in friend and j not in ('P', 'p')]\n",
    "    return [move for move in nextMoves if len(move) > 0]"
   ]
  },
  {
   "cell_type": "code",
   "execution_count": 24,
   "metadata": {},
   "outputs": [],
   "source": [
    "def evaluation_function(board):\n",
    "    random.randint(1,5)"
   ]
  },
  {
   "cell_type": "code",
   "execution_count": 30,
   "metadata": {},
   "outputs": [],
   "source": [
    "def arrangeBoard(board):\n",
    "    brd = np.reshape(board,(8,8))\n",
    "    return brd"
   ]
  },
  {
   "cell_type": "code",
   "execution_count": 34,
   "metadata": {},
   "outputs": [
    {
     "output_type": "stream",
     "name": "stdout",
     "text": [
      "RNBQKBNRPPPPPPPP................................pppppppprnbqkbnr\n[array([['R', '.', 'B', 'Q', 'K', 'B', 'N', 'R'],\n       ['P', 'P', 'P', 'P', 'P', 'P', 'P', 'P'],\n       ['N', '.', '.', '.', '.', '.', '.', '.'],\n       ['.', '.', '.', '.', '.', '.', '.', '.'],\n       ['.', '.', '.', '.', '.', '.', '.', '.'],\n       ['.', '.', '.', '.', '.', '.', '.', '.'],\n       ['p', 'p', 'p', 'p', 'p', 'p', 'p', 'p'],\n       ['r', 'n', 'b', 'q', 'k', 'b', 'n', 'r']], dtype='<U1'), array([['R', '.', 'B', 'Q', 'K', 'B', 'N', 'R'],\n       ['P', 'P', 'P', 'P', 'P', 'P', 'P', 'P'],\n       ['.', '.', 'N', '.', '.', '.', '.', '.'],\n       ['.', '.', '.', '.', '.', '.', '.', '.'],\n       ['.', '.', '.', '.', '.', '.', '.', '.'],\n       ['.', '.', '.', '.', '.', '.', '.', '.'],\n       ['p', 'p', 'p', 'p', 'p', 'p', 'p', 'p'],\n       ['r', 'n', 'b', 'q', 'k', 'b', 'n', 'r']], dtype='<U1')]\n"
     ]
    },
    {
     "output_type": "error",
     "ename": "TypeError",
     "evalue": "sequence item 0: expected str instance, numpy.ndarray found",
     "traceback": [
      "\u001b[0;31m---------------------------------------------------------------------------\u001b[0m",
      "\u001b[0;31mTypeError\u001b[0m                                 Traceback (most recent call last)",
      "\u001b[0;32m<ipython-input-34-eb175e1db60b>\u001b[0m in \u001b[0;36m<module>\u001b[0;34m\u001b[0m\n\u001b[0;32m----> 1\u001b[0;31m \u001b[0mmaximize\u001b[0m\u001b[0;34m(\u001b[0m\u001b[0;36m0\u001b[0m\u001b[0;34m,\u001b[0m \u001b[0mboard\u001b[0m\u001b[0;34m,\u001b[0m \u001b[0;34m'w'\u001b[0m\u001b[0;34m)\u001b[0m\u001b[0;34m\u001b[0m\u001b[0;34m\u001b[0m\u001b[0m\n\u001b[0m",
      "\u001b[0;32m<ipython-input-26-19ca8a66c465>\u001b[0m in \u001b[0;36mmaximize\u001b[0;34m(depth, board, color)\u001b[0m\n\u001b[1;32m      7\u001b[0m         \u001b[0;32mreturn\u001b[0m \u001b[0mevaluation_function\u001b[0m\u001b[0;34m(\u001b[0m\u001b[0mboard\u001b[0m\u001b[0;34m)\u001b[0m\u001b[0;34m\u001b[0m\u001b[0;34m\u001b[0m\u001b[0m\n\u001b[1;32m      8\u001b[0m     \u001b[0;32mfor\u001b[0m \u001b[0mmove\u001b[0m \u001b[0;32min\u001b[0m \u001b[0msuccessor\u001b[0m\u001b[0;34m(\u001b[0m\u001b[0mcolor\u001b[0m\u001b[0;34m,\u001b[0m \u001b[0mboard\u001b[0m\u001b[0;34m)\u001b[0m\u001b[0;34m:\u001b[0m\u001b[0;34m\u001b[0m\u001b[0;34m\u001b[0m\u001b[0m\n\u001b[0;32m----> 9\u001b[0;31m         \u001b[0mscore\u001b[0m \u001b[0;34m=\u001b[0m \u001b[0mminimize\u001b[0m\u001b[0;34m(\u001b[0m\u001b[0mdepth\u001b[0m\u001b[0;34m+\u001b[0m\u001b[0;36m1\u001b[0m\u001b[0;34m,\u001b[0m \u001b[0mmove\u001b[0m\u001b[0;34m,\u001b[0m \u001b[0mop_color\u001b[0m\u001b[0;34m)\u001b[0m\u001b[0;34m\u001b[0m\u001b[0;34m\u001b[0m\u001b[0m\n\u001b[0m\u001b[1;32m     10\u001b[0m         \u001b[0;32mif\u001b[0m \u001b[0mscore\u001b[0m \u001b[0;34m>\u001b[0m \u001b[0mmax_value\u001b[0m\u001b[0;34m:\u001b[0m\u001b[0;34m\u001b[0m\u001b[0;34m\u001b[0m\u001b[0m\n\u001b[1;32m     11\u001b[0m             \u001b[0mmax_value\u001b[0m \u001b[0;34m=\u001b[0m \u001b[0mscore\u001b[0m\u001b[0;34m\u001b[0m\u001b[0;34m\u001b[0m\u001b[0m\n",
      "\u001b[0;32m<ipython-input-27-f3428a4b3e57>\u001b[0m in \u001b[0;36mminimize\u001b[0;34m(depth, board, color)\u001b[0m\n\u001b[1;32m      6\u001b[0m     \u001b[0;32mif\u001b[0m \u001b[0mdepth\u001b[0m \u001b[0;34m==\u001b[0m \u001b[0mmax_depth\u001b[0m\u001b[0;34m:\u001b[0m\u001b[0;34m\u001b[0m\u001b[0;34m\u001b[0m\u001b[0m\n\u001b[1;32m      7\u001b[0m         \u001b[0;32mreturn\u001b[0m \u001b[0mevaluation_function\u001b[0m\u001b[0;34m(\u001b[0m\u001b[0mboard\u001b[0m\u001b[0;34m)\u001b[0m\u001b[0;34m\u001b[0m\u001b[0;34m\u001b[0m\u001b[0m\n\u001b[0;32m----> 8\u001b[0;31m     \u001b[0;32mfor\u001b[0m \u001b[0mmove\u001b[0m \u001b[0;32min\u001b[0m \u001b[0msuccessor\u001b[0m\u001b[0;34m(\u001b[0m\u001b[0mcolor\u001b[0m\u001b[0;34m,\u001b[0m \u001b[0mboard\u001b[0m\u001b[0;34m)\u001b[0m\u001b[0;34m:\u001b[0m\u001b[0;34m\u001b[0m\u001b[0;34m\u001b[0m\u001b[0m\n\u001b[0m\u001b[1;32m      9\u001b[0m         \u001b[0mscore\u001b[0m \u001b[0;34m=\u001b[0m \u001b[0mmaximize\u001b[0m\u001b[0;34m(\u001b[0m\u001b[0mdepth\u001b[0m\u001b[0;34m+\u001b[0m\u001b[0;36m1\u001b[0m\u001b[0;34m,\u001b[0m \u001b[0mmove\u001b[0m\u001b[0;34m,\u001b[0m \u001b[0mop_color\u001b[0m\u001b[0;34m)\u001b[0m\u001b[0;34m\u001b[0m\u001b[0;34m\u001b[0m\u001b[0m\n\u001b[1;32m     10\u001b[0m         \u001b[0;32mif\u001b[0m \u001b[0mscore\u001b[0m \u001b[0;34m<\u001b[0m \u001b[0mmin_value\u001b[0m\u001b[0;34m:\u001b[0m\u001b[0;34m\u001b[0m\u001b[0;34m\u001b[0m\u001b[0m\n",
      "\u001b[0;32m<ipython-input-32-41ebde2f9550>\u001b[0m in \u001b[0;36msuccessor\u001b[0;34m(color, board)\u001b[0m\n\u001b[1;32m      2\u001b[0m     \u001b[0mnextMoves\u001b[0m \u001b[0;34m=\u001b[0m \u001b[0;34m[\u001b[0m\u001b[0;34m]\u001b[0m\u001b[0;34m\u001b[0m\u001b[0;34m\u001b[0m\u001b[0m\n\u001b[1;32m      3\u001b[0m     \u001b[0mfriend\u001b[0m \u001b[0;34m=\u001b[0m \u001b[0;34m'PNBRQK'\u001b[0m \u001b[0;32mif\u001b[0m \u001b[0mcolor\u001b[0m \u001b[0;34m==\u001b[0m \u001b[0;34m'w'\u001b[0m \u001b[0;32melse\u001b[0m \u001b[0;34m'pnbrqk'\u001b[0m\u001b[0;34m\u001b[0m\u001b[0;34m\u001b[0m\u001b[0m\n\u001b[0;32m----> 4\u001b[0;31m     \u001b[0mbrd\u001b[0m \u001b[0;34m=\u001b[0m \u001b[0marrangeBoard\u001b[0m\u001b[0;34m(\u001b[0m\u001b[0mlist\u001b[0m\u001b[0;34m(\u001b[0m\u001b[0mboard\u001b[0m\u001b[0;34m)\u001b[0m\u001b[0;34m)\u001b[0m \u001b[0;32mif\u001b[0m \u001b[0mcolor\u001b[0m \u001b[0;34m==\u001b[0m \u001b[0;34m'w'\u001b[0m \u001b[0;32melse\u001b[0m \u001b[0marrangeBoard\u001b[0m\u001b[0;34m(\u001b[0m\u001b[0mlist\u001b[0m\u001b[0;34m(\u001b[0m\u001b[0;34m\"\"\u001b[0m\u001b[0;34m.\u001b[0m\u001b[0mjoin\u001b[0m\u001b[0;34m(\u001b[0m\u001b[0mreversed\u001b[0m\u001b[0;34m(\u001b[0m\u001b[0mboard\u001b[0m\u001b[0;34m)\u001b[0m\u001b[0;34m)\u001b[0m\u001b[0;34m)\u001b[0m\u001b[0;34m)\u001b[0m\u001b[0;34m\u001b[0m\u001b[0;34m\u001b[0m\u001b[0m\n\u001b[0m\u001b[1;32m      5\u001b[0m     \u001b[0mnextMoves\u001b[0m \u001b[0;34m+=\u001b[0m \u001b[0;34m[\u001b[0m\u001b[0mmoveBird\u001b[0m\u001b[0;34m(\u001b[0m\u001b[0mcolor\u001b[0m\u001b[0;34m,\u001b[0m\u001b[0mfriend\u001b[0m\u001b[0;34m,\u001b[0m\u001b[0mj\u001b[0m\u001b[0;34m,\u001b[0m\u001b[0mi\u001b[0m\u001b[0;34m//\u001b[0m\u001b[0;36m8\u001b[0m\u001b[0;34m,\u001b[0m\u001b[0mi\u001b[0m\u001b[0;34m%\u001b[0m\u001b[0;36m8\u001b[0m\u001b[0;34m,\u001b[0m\u001b[0mbrd\u001b[0m\u001b[0;34m)\u001b[0m \u001b[0;32mfor\u001b[0m \u001b[0mi\u001b[0m\u001b[0;34m,\u001b[0m\u001b[0mj\u001b[0m \u001b[0;32min\u001b[0m \u001b[0menumerate\u001b[0m\u001b[0;34m(\u001b[0m\u001b[0mlist\u001b[0m\u001b[0;34m(\u001b[0m\u001b[0mboard\u001b[0m\u001b[0;34m)\u001b[0m\u001b[0;34m)\u001b[0m \u001b[0;32mif\u001b[0m \u001b[0mj\u001b[0m \u001b[0;32min\u001b[0m \u001b[0mfriend\u001b[0m \u001b[0;32mand\u001b[0m \u001b[0mj\u001b[0m \u001b[0;32mnot\u001b[0m \u001b[0;32min\u001b[0m \u001b[0;34m(\u001b[0m\u001b[0;34m'P'\u001b[0m\u001b[0;34m,\u001b[0m \u001b[0;34m'p'\u001b[0m\u001b[0;34m)\u001b[0m\u001b[0;34m]\u001b[0m\u001b[0;34m\u001b[0m\u001b[0;34m\u001b[0m\u001b[0m\n\u001b[1;32m      6\u001b[0m     \u001b[0;32mreturn\u001b[0m \u001b[0;34m[\u001b[0m\u001b[0mmove\u001b[0m \u001b[0;32mfor\u001b[0m \u001b[0mmove\u001b[0m \u001b[0;32min\u001b[0m \u001b[0mnextMoves\u001b[0m \u001b[0;32mif\u001b[0m \u001b[0mlen\u001b[0m\u001b[0;34m(\u001b[0m\u001b[0mmove\u001b[0m\u001b[0;34m)\u001b[0m \u001b[0;34m>\u001b[0m \u001b[0;36m0\u001b[0m\u001b[0;34m]\u001b[0m\u001b[0;34m\u001b[0m\u001b[0;34m\u001b[0m\u001b[0m\n",
      "\u001b[0;31mTypeError\u001b[0m: sequence item 0: expected str instance, numpy.ndarray found"
     ]
    }
   ],
   "source": [
    "maximize(0, board, 'w')"
   ]
  },
  {
   "cell_type": "code",
   "execution_count": null,
   "metadata": {},
   "outputs": [],
   "source": []
  }
 ]
}