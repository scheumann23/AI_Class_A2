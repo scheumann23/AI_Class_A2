{
 "metadata": {
  "language_info": {
   "codemirror_mode": {
    "name": "ipython",
    "version": 3
   },
   "file_extension": ".py",
   "mimetype": "text/x-python",
   "name": "python",
   "nbconvert_exporter": "python",
   "pygments_lexer": "ipython3",
   "version": "3.8.5-final"
  },
  "orig_nbformat": 2,
  "kernelspec": {
   "name": "Python 3.8.5 64-bit",
   "display_name": "Python 3.8.5 64-bit",
   "metadata": {
    "interpreter": {
     "hash": "3fcc8762d32b6e9fca2af7a200d6a904ed918ac25cace5a24ad2010b6c5f5099"
    }
   }
  }
 },
 "nbformat": 4,
 "nbformat_minor": 2,
 "cells": [
  {
   "cell_type": "code",
   "execution_count": 6,
   "metadata": {},
   "outputs": [],
   "source": [
    "import numpy as np\n",
    "from moveBetsy import moveBird\n",
    "import random"
   ]
  },
  {
   "cell_type": "code",
   "execution_count": 7,
   "metadata": {},
   "outputs": [],
   "source": [
    "board = 'RNBQKBNRPPPPPPPP................................pppppppprnbqkbnr'"
   ]
  },
  {
   "cell_type": "code",
   "execution_count": 8,
   "metadata": {},
   "outputs": [],
   "source": [
    "def arrangeBoard(board):\n",
    "    brd = np.reshape(board,(8,8))\n",
    "    return brd"
   ]
  },
  {
   "cell_type": "code",
   "execution_count": 9,
   "metadata": {},
   "outputs": [],
   "source": [
    "brd = arrangeBoard(list(board))"
   ]
  },
  {
   "cell_type": "code",
   "execution_count": 18,
   "metadata": {},
   "outputs": [],
   "source": [
    "def maximize(depth, board, color, max_depth):\n",
    "    max_value = -1000000\n",
    "    best_move = board\n",
    "    op_color = 'w' if color == 'b' else 'b'\n",
    "    if depth == max_depth:\n",
    "        return evaluation_function(board)\n",
    "    for move in successor(color, board):\n",
    "        score, _ = minimize(depth+1, rotate_board(move), op_color, max_depth)\n",
    "        if score > max_value:\n",
    "            max_value = score\n",
    "            best_move = move\n",
    "    return (max_value, best_move)"
   ]
  },
  {
   "cell_type": "code",
   "execution_count": 19,
   "metadata": {},
   "outputs": [],
   "source": [
    "def minimize(depth, board, color, max_depth):\n",
    "    min_value = 1000000\n",
    "    best_move = board\n",
    "    op_color = 'w' if color == 'b' else 'b'\n",
    "    if depth == max_depth:\n",
    "        return evaluation_function(board)\n",
    "    for move in successor(color, board):\n",
    "        score, _ = maximize(depth+1, rotate_board(move), op_color, max_depth)\n",
    "        if score < min_value:\n",
    "            min_value = score\n",
    "            best_move = move\n",
    "    return (min_value, best_move)"
   ]
  },
  {
   "cell_type": "code",
   "execution_count": 12,
   "metadata": {},
   "outputs": [],
   "source": [
    "def successor(color, board):\n",
    "    nextMoves = []\n",
    "    friend = 'PNBRQK' if color == 'w' else 'pnbrqk'\n",
    "    board_list = [(col + len(board)*row, board[row][col]) for row in range(len(board)) for col in range(len(board[0]))]\n",
    "    for i,j in board_list:\n",
    "        if j in friend:\n",
    "            for move in moveBird(color,friend,j,i//8,i%8,board):\n",
    "                nextMoves.append(move)\n",
    "    return nextMoves"
   ]
  },
  {
   "cell_type": "code",
   "execution_count": 13,
   "metadata": {},
   "outputs": [],
   "source": [
    "def evaluation_function(board):\n",
    "    return (random.randint(1,5), board)"
   ]
  },
  {
   "cell_type": "code",
   "execution_count": 14,
   "metadata": {},
   "outputs": [],
   "source": [
    "def rotate_board(board):\n",
    "    brd = board.copy()\n",
    "    for i in range(len(board)):\n",
    "        for j in range(len(board[0])):\n",
    "            brd[i, len(board[0])-1-j] = board[len(board)-1-i, j]\n",
    "    return brd\n"
   ]
  },
  {
   "cell_type": "code",
   "execution_count": 15,
   "metadata": {},
   "outputs": [],
   "source": [
    "def nice_output(board):\n",
    "    out = ''\n",
    "    for row in range(len(brd)):\n",
    "        for col in range(len(board[0])):\n",
    "            out += board[row][col]\n",
    "    return out"
   ]
  },
  {
   "cell_type": "code",
   "execution_count": 16,
   "metadata": {},
   "outputs": [],
   "source": [
    "def choose(board, color, max_depth):\n",
    "    best_choice = maximize(1, board, color, max_depth)\n",
    "    return nice_output(best_choice[1])"
   ]
  },
  {
   "cell_type": "code",
   "execution_count": 20,
   "metadata": {},
   "outputs": [
    {
     "output_type": "execute_result",
     "data": {
      "text/plain": [
       "'R.BQKBNRPPPPPPPPN...............................pppppppprnbqkbnr'"
      ]
     },
     "metadata": {},
     "execution_count": 20
    }
   ],
   "source": [
    "choose(brd, 'w', 4)"
   ]
  },
  {
   "cell_type": "code",
   "execution_count": null,
   "metadata": {},
   "outputs": [],
   "source": []
  }
 ]
}