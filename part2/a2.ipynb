{
 "metadata": {
  "language_info": {
   "codemirror_mode": {
    "name": "ipython",
    "version": 3
   },
   "file_extension": ".py",
   "mimetype": "text/x-python",
   "name": "python",
   "nbconvert_exporter": "python",
   "pygments_lexer": "ipython3",
   "version": "3.8.5-final"
  },
  "orig_nbformat": 2,
  "kernelspec": {
   "name": "Python 3.8.5 64-bit",
   "display_name": "Python 3.8.5 64-bit",
   "metadata": {
    "interpreter": {
     "hash": "3fcc8762d32b6e9fca2af7a200d6a904ed918ac25cace5a24ad2010b6c5f5099"
    }
   }
  }
 },
 "nbformat": 4,
 "nbformat_minor": 2,
 "cells": [
  {
   "cell_type": "code",
   "execution_count": 1,
   "metadata": {},
   "outputs": [],
   "source": [
    "import numpy as np\n",
    "from moveBetsy import moveBird\n",
    "import random\n",
    "from moveEval import evalBoard"
   ]
  },
  {
   "cell_type": "code",
   "execution_count": 2,
   "metadata": {},
   "outputs": [],
   "source": [
    "board = 'RNBQKBNRPPPPPPPP................................pppppppprnbqkbnr'"
   ]
  },
  {
   "cell_type": "code",
   "execution_count": 3,
   "metadata": {},
   "outputs": [],
   "source": [
    "def arrangeBoard(board):\n",
    "    brd = np.reshape(board,(8,8))\n",
    "    return brd"
   ]
  },
  {
   "cell_type": "code",
   "execution_count": 4,
   "metadata": {},
   "outputs": [],
   "source": [
    "brd = arrangeBoard(list(board))"
   ]
  },
  {
   "cell_type": "code",
   "execution_count": 5,
   "metadata": {},
   "outputs": [],
   "source": [
    "def maximize(depth, board, color, max_depth, alpha, beta):\n",
    "    max_value = -1000000\n",
    "    best_move = board\n",
    "    op_color = 'w' if color == 'b' else 'b'\n",
    "    if depth == max_depth:\n",
    "        return evalBoard(color, board)\n",
    "    for move in successor(color, board):\n",
    "        score, _ = minimize(depth+1, rotate_board(move), op_color, max_depth, alpha, beta)\n",
    "        if score > max_value:\n",
    "            max_value = score\n",
    "            best_move = move\n",
    "        if max_value >= beta:\n",
    "            return (max_value, best_move)\n",
    "        if max_value > alpha:\n",
    "            alpha = max_value\n",
    "\n",
    "    return (max_value, best_move)"
   ]
  },
  {
   "cell_type": "code",
   "execution_count": 6,
   "metadata": {},
   "outputs": [],
   "source": [
    "def minimize(depth, board, color, max_depth, alpha, beta):\n",
    "    min_value = 1000000\n",
    "    best_move = board\n",
    "    op_color = 'w' if color == 'b' else 'b'\n",
    "    if depth == max_depth:\n",
    "        return evalBoard(color, board)\n",
    "    for move in successor(color, board):\n",
    "        score, _ = maximize(depth+1, rotate_board(move), op_color, max_depth, alpha, beta)\n",
    "        if score < min_value:\n",
    "            min_value = score\n",
    "            best_move = move\n",
    "        if min_value <= alpha:\n",
    "            return (min_value, best_move)\n",
    "        if min_value < beta:\n",
    "            beta = min_value\n",
    "\n",
    "    return (min_value, best_move)"
   ]
  },
  {
   "cell_type": "code",
   "execution_count": 7,
   "metadata": {},
   "outputs": [],
   "source": [
    "def successor(color, board):\n",
    "    nextMoves = []\n",
    "    friend = 'PNBRQK' if color == 'w' else 'pnbrqk'\n",
    "    board_list = [(col + len(board)*row, board[row][col]) for row in range(len(board)) for col in range(len(board[0]))]\n",
    "    for i,j in board_list:\n",
    "        if j in friend:\n",
    "            for move in moveBird(color,friend,j,i//8,i%8,board):\n",
    "                nextMoves.append(move)\n",
    "    return nextMoves"
   ]
  },
  {
   "cell_type": "code",
   "execution_count": 8,
   "metadata": {},
   "outputs": [],
   "source": [
    "def evaluation_function(board):\n",
    "    return (random.randint(1,5), board)"
   ]
  },
  {
   "cell_type": "code",
   "execution_count": 9,
   "metadata": {},
   "outputs": [],
   "source": [
    "def rotate_board(board):\n",
    "    brd = board.copy()\n",
    "    for i in range(len(board)):\n",
    "        for j in range(len(board[0])):\n",
    "            brd[i, len(board[0])-1-j] = board[len(board)-1-i, j]\n",
    "    return brd\n"
   ]
  },
  {
   "cell_type": "code",
   "execution_count": 10,
   "metadata": {},
   "outputs": [],
   "source": [
    "def nice_output(board):\n",
    "    out = ''\n",
    "    for row in range(len(brd)):\n",
    "        for col in range(len(board[0])):\n",
    "            out += board[row][col]\n",
    "    return out"
   ]
  },
  {
   "cell_type": "code",
   "execution_count": 11,
   "metadata": {},
   "outputs": [],
   "source": [
    "def choose(board, color, max_depth, alpha, beta):\n",
    "    best_choice = maximize(1, board, color, max_depth, alpha, beta)\n",
    "    return nice_output(best_choice[1])"
   ]
  },
  {
   "cell_type": "code",
   "execution_count": 19,
   "metadata": {
    "tags": []
   },
   "outputs": [
    {
     "output_type": "stream",
     "name": "stdout",
     "text": [
      "CPU times: user 5.63 s, sys: 74.2 ms, total: 5.7 s\nWall time: 5.7 s\n"
     ]
    },
    {
     "output_type": "execute_result",
     "data": {
      "text/plain": [
       "'rnbkqbnrppp.pppp...p............................PPPPPPPPRNBKQBNR'"
      ]
     },
     "metadata": {},
     "execution_count": 19
    }
   ],
   "source": [
    "%%time\n",
    "choose(black_first, 'b', 5, -1000000, 1000000)"
   ]
  },
  {
   "cell_type": "code",
   "execution_count": 15,
   "metadata": {},
   "outputs": [],
   "source": [
    "black_first = rotate_board(brd)"
   ]
  },
  {
   "cell_type": "code",
   "execution_count": 16,
   "metadata": {},
   "outputs": [
    {
     "output_type": "execute_result",
     "data": {
      "text/plain": [
       "array([['r', 'n', 'b', 'k', 'q', 'b', 'n', 'r'],\n",
       "       ['p', 'p', 'p', 'p', 'p', 'p', 'p', 'p'],\n",
       "       ['.', '.', '.', '.', '.', '.', '.', '.'],\n",
       "       ['.', '.', '.', '.', '.', '.', '.', '.'],\n",
       "       ['.', '.', '.', '.', '.', '.', '.', '.'],\n",
       "       ['.', '.', '.', '.', '.', '.', '.', '.'],\n",
       "       ['P', 'P', 'P', 'P', 'P', 'P', 'P', 'P'],\n",
       "       ['R', 'N', 'B', 'K', 'Q', 'B', 'N', 'R']], dtype='<U1')"
      ]
     },
     "metadata": {},
     "execution_count": 16
    }
   ],
   "source": [
    "black_first"
   ]
  },
  {
   "cell_type": "code",
   "execution_count": 37,
   "metadata": {},
   "outputs": [],
   "source": [
    "brd1 = 'RNB.KBNRPPPPQP.P......P.....P.........p........npppppp.prnbqkbr.'"
   ]
  },
  {
   "cell_type": "code",
   "execution_count": 38,
   "metadata": {},
   "outputs": [],
   "source": [
    "complex_board = arrangeBoard(list(brd1))"
   ]
  },
  {
   "cell_type": "code",
   "execution_count": 39,
   "metadata": {},
   "outputs": [
    {
     "output_type": "execute_result",
     "data": {
      "text/plain": [
       "array([['R', 'N', 'B', '.', 'K', 'B', 'N', 'R'],\n",
       "       ['P', 'P', 'P', 'P', 'Q', 'P', '.', 'P'],\n",
       "       ['.', '.', '.', '.', '.', '.', 'P', '.'],\n",
       "       ['.', '.', '.', '.', 'P', '.', '.', '.'],\n",
       "       ['.', '.', '.', '.', '.', '.', 'p', '.'],\n",
       "       ['.', '.', '.', '.', '.', '.', '.', 'n'],\n",
       "       ['p', 'p', 'p', 'p', 'p', 'p', '.', 'p'],\n",
       "       ['r', 'n', 'b', 'q', 'k', 'b', 'r', '.']], dtype='<U1')"
      ]
     },
     "metadata": {},
     "execution_count": 39
    }
   ],
   "source": [
    "complex_board"
   ]
  },
  {
   "cell_type": "code",
   "execution_count": null,
   "metadata": {},
   "outputs": [],
   "source": []
  }
 ]
}